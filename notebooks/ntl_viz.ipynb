{
 "cells": [
  {
   "cell_type": "markdown",
   "metadata": {},
   "source": [
    "### Setup"
   ]
  },
  {
   "cell_type": "code",
   "execution_count": 32,
   "metadata": {},
   "outputs": [],
   "source": [
    "import pandas as pd\n",
    "import numpy as np\n",
    "from matplotlib import pyplot as plt\n",
    "import seaborn as sns"
   ]
  },
  {
   "cell_type": "code",
   "execution_count": 33,
   "metadata": {},
   "outputs": [],
   "source": [
    "TM_pal_categorical_3 = (\"#ef4631\", \"#10b9ce\", \"#ff9138\")\n",
    "sns.set(\n",
    "    style=\"white\",\n",
    "    font_scale=1.25,\n",
    "    palette=TM_pal_categorical_3,\n",
    ")"
   ]
  },
  {
   "cell_type": "code",
   "execution_count": 34,
   "metadata": {},
   "outputs": [],
   "source": [
    "ntl = pd.read_csv('../data/nightlights/nightlights.csv')"
   ]
  },
  {
   "cell_type": "code",
   "execution_count": 35,
   "metadata": {},
   "outputs": [
    {
     "data": {
      "text/plain": [
       "(134540, 6)"
      ]
     },
     "execution_count": 35,
     "metadata": {},
     "output_type": "execute_result"
    }
   ],
   "source": [
    "ntl.shape"
   ]
  },
  {
   "cell_type": "code",
   "execution_count": 36,
   "metadata": {},
   "outputs": [
    {
     "data": {
      "text/html": [
       "<div>\n",
       "<style scoped>\n",
       "    .dataframe tbody tr th:only-of-type {\n",
       "        vertical-align: middle;\n",
       "    }\n",
       "\n",
       "    .dataframe tbody tr th {\n",
       "        vertical-align: top;\n",
       "    }\n",
       "\n",
       "    .dataframe thead th {\n",
       "        text-align: right;\n",
       "    }\n",
       "</style>\n",
       "<table border=\"1\" class=\"dataframe\">\n",
       "  <thead>\n",
       "    <tr style=\"text-align: right;\">\n",
       "      <th></th>\n",
       "      <th>ID</th>\n",
       "      <th>DHSCLUST</th>\n",
       "      <th>ntllon</th>\n",
       "      <th>ntllat</th>\n",
       "      <th>ntl2016</th>\n",
       "      <th>pop_sum</th>\n",
       "    </tr>\n",
       "  </thead>\n",
       "  <tbody>\n",
       "    <tr>\n",
       "      <th>0</th>\n",
       "      <td>0</td>\n",
       "      <td>PH201700000387, PH201700000395</td>\n",
       "      <td>120.554167</td>\n",
       "      <td>18.212500</td>\n",
       "      <td>0.49878</td>\n",
       "      <td>446.725863</td>\n",
       "    </tr>\n",
       "    <tr>\n",
       "      <th>1</th>\n",
       "      <td>3</td>\n",
       "      <td>PH201700000395, PH201700000387</td>\n",
       "      <td>120.554167</td>\n",
       "      <td>18.200000</td>\n",
       "      <td>0.29817</td>\n",
       "      <td>16.787817</td>\n",
       "    </tr>\n",
       "    <tr>\n",
       "      <th>2</th>\n",
       "      <td>4</td>\n",
       "      <td>PH201700000387, PH201700000395</td>\n",
       "      <td>120.554167</td>\n",
       "      <td>18.195833</td>\n",
       "      <td>0.63710</td>\n",
       "      <td>151.090350</td>\n",
       "    </tr>\n",
       "    <tr>\n",
       "      <th>3</th>\n",
       "      <td>5</td>\n",
       "      <td>PH201700000395, PH201700000387</td>\n",
       "      <td>120.554167</td>\n",
       "      <td>18.191666</td>\n",
       "      <td>2.96224</td>\n",
       "      <td>488.236374</td>\n",
       "    </tr>\n",
       "    <tr>\n",
       "      <th>4</th>\n",
       "      <td>6</td>\n",
       "      <td>PH201700000387, PH201700000395</td>\n",
       "      <td>120.558334</td>\n",
       "      <td>18.216666</td>\n",
       "      <td>0.47865</td>\n",
       "      <td>78.833976</td>\n",
       "    </tr>\n",
       "  </tbody>\n",
       "</table>\n",
       "</div>"
      ],
      "text/plain": [
       "   ID                        DHSCLUST      ntllon     ntllat  ntl2016  \\\n",
       "0   0  PH201700000387, PH201700000395  120.554167  18.212500  0.49878   \n",
       "1   3  PH201700000395, PH201700000387  120.554167  18.200000  0.29817   \n",
       "2   4  PH201700000387, PH201700000395  120.554167  18.195833  0.63710   \n",
       "3   5  PH201700000395, PH201700000387  120.554167  18.191666  2.96224   \n",
       "4   6  PH201700000387, PH201700000395  120.558334  18.216666  0.47865   \n",
       "\n",
       "      pop_sum  \n",
       "0  446.725863  \n",
       "1   16.787817  \n",
       "2  151.090350  \n",
       "3  488.236374  \n",
       "4   78.833976  "
      ]
     },
     "execution_count": 36,
     "metadata": {},
     "output_type": "execute_result"
    }
   ],
   "source": [
    "ntl.head()"
   ]
  },
  {
   "cell_type": "markdown",
   "metadata": {},
   "source": [
    "### Number of Pixels by Nighttime Light Intensity"
   ]
  },
  {
   "cell_type": "code",
   "execution_count": 21,
   "metadata": {},
   "outputs": [
    {
     "data": {
      "image/png": "[encoded data removed]",
      "text/plain": [
       "<Figure size 432x288 with 1 Axes>"
      ]
     },
     "metadata": {},
     "output_type": "display_data"
    }
   ],
   "source": [
    "plt.hist(ntl[ntl['ntl2016'] > 1]['ntl2016'], bins=15, density=True)\n",
    "sns.despine()\n",
    "plt.xlabel('Nightlight Intensity')\n",
    "plt.ylabel('Percentage of Pixels')\n",
    "\n",
    "plt.savefig('../images/ntlpixel_hist.png', transparent=True, pad_inches=0, dpi=300)"
   ]
  },
  {
   "cell_type": "markdown",
   "metadata": {},
   "source": [
    "### Number of Pixels per Cluster"
   ]
  },
  {
   "cell_type": "code",
   "execution_count": 38,
   "metadata": {},
   "outputs": [],
   "source": [
    "ntl_unstacked = pd.read_csv('../data/nightlights/nightlights_unstacked.csv')"
   ]
  },
  {
   "cell_type": "code",
   "execution_count": 39,
   "metadata": {},
   "outputs": [
    {
     "data": {
      "image/png": "[encoded data removed]",
      "text/plain": [
       "<Figure size 432x288 with 1 Axes>"
      ]
     },
     "metadata": {},
     "output_type": "display_data"
    }
   ],
   "source": [
    "plt.hist(ntl_unstacked.groupby('DHSCLUST').count()['ntl2016'], bins=15)\n",
    "sns.despine()\n",
    "plt.xlabel('Number of Nightlights Pixels')\n",
    "plt.ylabel('Percentage of Clusters')\n",
    "plt.savefig('../images/pixelspercluster_hist.png', transparent=True, pad_inches=0, dpi=300)"
   ]
  },
  {
   "cell_type": "markdown",
   "metadata": {},
   "source": [
    "### Average Nighttime Lights per Cluster"
   ]
  },
  {
   "cell_type": "code",
   "execution_count": 41,
   "metadata": {},
   "outputs": [
    {
     "data": {
      "text/plain": [
       "(1214, 2)"
      ]
     },
     "execution_count": 41,
     "metadata": {},
     "output_type": "execute_result"
    }
   ],
   "source": [
    "avg_ntl = pd.DataFrame(ntl_unstacked.groupby('DHSCLUST')['ntl2016'].mean()).reset_index()\n",
    "avg_ntl.shape"
   ]
  },
  {
   "cell_type": "code",
   "execution_count": 44,
   "metadata": {},
   "outputs": [
    {
     "data": {
      "image/png": "[encoded data removed]",
      "text/plain": [
       "<Figure size 432x288 with 1 Axes>"
      ]
     },
     "metadata": {},
     "output_type": "display_data"
    }
   ],
   "source": [
    "plt.hist(avg_ntl['ntl2016'], bins=15, density=True)\n",
    "sns.despine()\n",
    "plt.xlabel('Average nightlights intensity')\n",
    "plt.ylabel('Percentage of Clusters')\n",
    "plt.savefig('../images/avgntlpercluster_hist.png', dpi=300, transparent=True, pad_inches=0)"
   ]
  }
 ],
 "metadata": {
  "interpreter": {
   "hash": "24a6c0f42a7f431d252bc03b69580abaa8a317ce61b539dd6725ff6053c14660"
  },
  "kernelspec": {
   "display_name": "Python 3.9.7 ('modelenv')",
   "language": "python",
   "name": "python3"
  },
  "language_info": {
   "codemirror_mode": {
    "name": "ipython",
    "version": 3
   },
   "file_extension": ".py",
   "mimetype": "text/x-python",
   "name": "python",
   "nbconvert_exporter": "python",
   "pygments_lexer": "ipython3",
   "version": "3.9.7"
  },
  "orig_nbformat": 4
 },
 "nbformat": 4,
 "nbformat_minor": 2
}
