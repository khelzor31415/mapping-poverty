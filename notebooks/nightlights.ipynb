{
 "cells": [
  {
   "cell_type": "code",
   "execution_count": 1,
   "metadata": {},
   "outputs": [],
   "source": [
    "import rasterio \n",
    "from rasterio.plot import show \n",
    "from matplotlib import pyplot as plt"
   ]
  },
  {
   "cell_type": "code",
   "execution_count": 11,
   "metadata": {},
   "outputs": [],
   "source": [
    "img = rasterio.open('../data/nightlights/ntl2017_data/ntl2017_average.tif')\n",
    "full_img = img.read()"
   ]
  },
  {
   "cell_type": "code",
   "execution_count": null,
   "metadata": {},
   "outputs": [],
   "source": [
    "oldmin, oldmax = -1.5, 82409.72\n",
    "newmin, newmax = 0, 255"
   ]
  },
  {
   "cell_type": "code",
   "execution_count": 24,
   "metadata": {},
   "outputs": [
    {
     "data": {
      "text/plain": [
       "-1.5"
      ]
     },
     "execution_count": 24,
     "metadata": {},
     "output_type": "execute_result"
    }
   ],
   "source": [
    "full_img[0,:-1, :].min()"
   ]
  }
 ],
 "metadata": {
  "interpreter": {
   "hash": "5d5042288bd10dccb8597d348017966aaed1092b9c908251aeeb4f807b9ccbfb"
  },
  "kernelspec": {
   "display_name": "Python 3.9.7 64-bit ('pyrosmenv': conda)",
   "language": "python",
   "name": "python3"
  },
  "language_info": {
   "codemirror_mode": {
    "name": "ipython",
    "version": 3
   },
   "file_extension": ".py",
   "mimetype": "text/x-python",
   "name": "python",
   "nbconvert_exporter": "python",
   "pygments_lexer": "ipython3",
   "version": "3.9.7"
  },
  "orig_nbformat": 4
 },
 "nbformat": 4,
 "nbformat_minor": 2
}
