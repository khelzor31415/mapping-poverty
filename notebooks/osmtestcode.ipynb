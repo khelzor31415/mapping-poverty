{
 "cells": [
  {
   "cell_type": "markdown",
   "metadata": {},
   "source": [
    "data source : https://download.geofabrik.de/asia/philippines.html#"
   ]
  },
  {
   "cell_type": "code",
   "execution_count": 2,
   "metadata": {},
   "outputs": [],
   "source": [
    "from pyrosm import get_data\n",
    "import pyrosm \n",
    "import geopandas as gp\n",
    "from matplotlib import pyplot as plt"
   ]
  },
  {
   "cell_type": "code",
   "execution_count": 3,
   "metadata": {},
   "outputs": [],
   "source": [
    "ph_2017_osm_dir = '../data/osm/pbf/philippines-170101.osm.pbf'\n",
    "ph_2018_osm_dir = '../data/osm/pbf/philippines-180101.osm.pbf'\n",
    "ph_latest_osm_dir = '../data/osm/pbf/philippines-latest.osm.pbf'"
   ]
  },
  {
   "cell_type": "code",
   "execution_count": 4,
   "metadata": {},
   "outputs": [],
   "source": [
    "ph_osm_2017 = pyrosm.OSM(ph_2017_osm_dir)\n",
    "ph_osm_2018 = pyrosm.OSM(ph_2018_osm_dir)\n",
    "ph_osm_latest = pyrosm.OSM(ph_latest_osm_dir)"
   ]
  },
  {
   "cell_type": "code",
   "execution_count": 5,
   "metadata": {},
   "outputs": [],
   "source": [
    "drive_net_2017 = ph_osm_2017.get_network(network_type='driving')\n",
    "drive_net_2018 = ph_osm_2018.get_network(network_type='driving')\n",
    "drive_net_latest = ph_osm_latest.get_network(network_type='driving')"
   ]
  },
  {
   "cell_type": "code",
   "execution_count": null,
   "metadata": {},
   "outputs": [],
   "source": [
    "drive_net_2017.plot(figsize=(200, 200))"
   ]
  },
  {
   "cell_type": "code",
   "execution_count": null,
   "metadata": {},
   "outputs": [],
   "source": [
    "drive_net_2018.plot(figsize=(200, 200))"
   ]
  },
  {
   "cell_type": "code",
   "execution_count": null,
   "metadata": {},
   "outputs": [],
   "source": [
    "drive_net_latest.plot(figsize=(200, 200))"
   ]
  }
 ],
 "metadata": {
  "interpreter": {
   "hash": "9800bf7d4ffa4f9324a299644698221575cfa2905c94c95cd9a9674aaf0ad8b0"
  },
  "kernelspec": {
   "display_name": "Python 3.8.12 64-bit ('def': conda)",
   "language": "python",
   "name": "python3"
  },
  "language_info": {
   "codemirror_mode": {
    "name": "ipython",
    "version": 3
   },
   "file_extension": ".py",
   "mimetype": "text/x-python",
   "name": "python",
   "nbconvert_exporter": "python",
   "pygments_lexer": "ipython3",
   "version": "3.9.7"
  },
  "orig_nbformat": 4
 },
 "nbformat": 4,
 "nbformat_minor": 2
}
