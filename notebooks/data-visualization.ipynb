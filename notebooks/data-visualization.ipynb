{
 "cells": [
  {
   "cell_type": "markdown",
   "metadata": {},
   "source": [
    "# Imports"
   ]
  },
  {
   "cell_type": "code",
   "execution_count": null,
   "metadata": {},
   "outputs": [],
   "source": [
    "import pandas as pd\n",
    "import numpy as np\n",
    "from matplotlib import pyplot as plt\n",
    "import seaborn"
   ]
  },
  {
   "cell_type": "markdown",
   "metadata": {},
   "source": [
    "# File Locations"
   ]
  },
  {
   "cell_type": "code",
   "execution_count": null,
   "metadata": {},
   "outputs": [],
   "source": [
    "dta_dir = '../data/'\n",
    "\n",
    "dhs_ind_dir = dta_dir + 'ndhs/dhs_indicators.csv'\n",
    "ntl_stt_dir = dta_dir + 'nightlights/nightlights_summary_stats.csv'\n",
    "osm_rod_dir = dta_dir + 'osm/osm_roads.csv'\n",
    "osm_poi_dir = dta_dir + 'osm/osm_pois.csv'\n",
    "osm_bld_dir = dta_dir + 'osm/osm_buildings.csv'"
   ]
  },
  {
   "cell_type": "markdown",
   "metadata": {},
   "source": [
    "# NDHS Data Set Exploratory Data Analysis"
   ]
  },
  {
   "cell_type": "code",
   "execution_count": null,
   "metadata": {},
   "outputs": [],
   "source": [
    "dhs_ind = pd.read_csv(dhs_ind_dir)"
   ]
  },
  {
   "cell_type": "code",
   "execution_count": null,
   "metadata": {},
   "outputs": [],
   "source": [
    "from scipy.stats import spearmanr, pearsonr\n",
    "\n",
    "def plot_regplot(\n",
    "    data,\n",
    "    x_label,\n",
    "    y_label,\n",
    "    y_var\n",
    "):\n",
    "    \"\"\"\n",
    "    Produces the regression plot for the given data\n",
    "\n",
    "    Parameters\n",
    "    ----------\n",
    "    data: pandas Series\n",
    "        the data to plot regression plot\n",
    "    x_var: str\n",
    "        the variable name of the x-axis\n",
    "    y_var: str\n",
    "        the variable name of the y-axis\n",
    "    x_label: str\n",
    "        the label of the x-axis\n",
    "    y_label: str\n",
    "        the label of the y-axis\n",
    "    \"\"\"\n",
    "\n",
    "    ax = sns.regplot(\n",
    "        x=x_label,\n",
    "        y=y_var,\n",
    "        data=data,\n",
    "        lowess=True,\n",
    "        line_kws={'color':'black', 'lw':2},\n",
    "        scatter_kws={'alpha':0.3}\n",
    "    )\n",
    "    \n",
    "    plt.ticklabel_format(style='sci', axis='x', scilimits=(1,5))\n",
    "    plt.title(\n",
    "        'Relationship between {}\\nand {}'.format(\n",
    "            x_label, y_label\n",
    "        )\n",
    "        + r\" ($\\rho$ = %.2f, $r$ = %.2f)\"\n",
    "        % (\n",
    "            spearmanr(\n",
    "                data[x_label].tolist(), data[y_var].tolist()\n",
    "            )[0],\n",
    "            pearsonr(\n",
    "                data[x_label].tolist(), data[y_var].tolist()\n",
    "            )[0]\n",
    "        )\n",
    "    )\n",
    "    plt.xlabel(x_label)\n",
    "    plt.ylabel(y_label)\n",
    "\n",
    "    plt.show()"
   ]
  },
  {
   "cell_type": "code",
   "execution_count": null,
   "metadata": {},
   "outputs": [],
   "source": [
    "fig, ax = plt.subplots(1, 3, figsize=(10,10))\n",
    "\n",
    "dhs_ind.wealth_index.hist(ax=ax[0])\n",
    "dhs_ind.education_completed_yrs.hist(ax=ax[1])\n",
    "dhs_ind.electricity_access.hist(ax=ax[2])"
   ]
  }
 ],
 "metadata": {
  "language_info": {
   "name": "python"
  },
  "orig_nbformat": 4
 },
 "nbformat": 4,
 "nbformat_minor": 2
}
