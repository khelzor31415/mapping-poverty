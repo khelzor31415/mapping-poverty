{
 "cells": [
  {
   "cell_type": "markdown",
   "metadata": {},
   "source": [
    "# Imports"
   ]
  },
  {
   "cell_type": "code",
   "execution_count": 2,
   "metadata": {},
   "outputs": [],
   "source": [
    "import pandas as pd \n",
    "import numpy as np"
   ]
  },
  {
   "cell_type": "markdown",
   "metadata": {},
   "source": [
    "# File Locations"
   ]
  },
  {
   "cell_type": "code",
   "execution_count": 21,
   "metadata": {},
   "outputs": [],
   "source": [
    "data_dir = '../data/'\n",
    "\n",
    "dhs_ind_dir = data_dir + 'ndhs/dhs_indicators.csv'\n",
    "ntl_stt_dir = data_dir + 'nightlights/nightlights_summary_stats.csv'\n",
    "\n",
    "osm_dir = data_dir + 'osm/'\n",
    "osm_rod_dir = osm_dir + 'osm_roads.csv'\n",
    "osm_bld_dir = osm_dir + 'osm_buildings.csv'\n",
    "osm_poi_dir = osm_dir + 'osm_pois.csv'"
   ]
  },
  {
   "cell_type": "markdown",
   "metadata": {},
   "source": [
    "# Load Datasets"
   ]
  },
  {
   "cell_type": "code",
   "execution_count": 33,
   "metadata": {},
   "outputs": [],
   "source": [
    "dhs_ind = pd.read_csv(dhs_ind_dir)\n",
    "ntl_stt = pd.read_csv(ntl_stt_dir)\n",
    "osm_rod = pd.read_csv(osm_rod_dir)\n",
    "osm_bld = pd.read_csv(osm_bld_dir)\n",
    "osm_poi = pd.read_csv(osm_poi_dir)"
   ]
  },
  {
   "cell_type": "markdown",
   "metadata": {},
   "source": [
    "# Define Feature Columns"
   ]
  },
  {
   "cell_type": "code",
   "execution_count": 39,
   "metadata": {},
   "outputs": [],
   "source": [
    "rod_cols = osm_rod.columns[1:]\n",
    "bld_cols = osm_bld.columns[1:]\n",
    "poi_cols = osm_poi.columns[1:]\n",
    "ntl_cols = ntl_stt.columns[1:]"
   ]
  },
  {
   "cell_type": "code",
   "execution_count": 43,
   "metadata": {},
   "outputs": [],
   "source": [
    "ftr_cols =   list(rod_cols) +\\\n",
    "            list(bld_cols) +\\\n",
    "            list(poi_cols) +\\\n",
    "            list(ntl_cols)"
   ]
  },
  {
   "cell_type": "markdown",
   "metadata": {},
   "source": [
    "# Combine Features"
   ]
  },
  {
   "cell_type": "code",
   "execution_count": 48,
   "metadata": {},
   "outputs": [
    {
     "name": "stdout",
     "output_type": "stream",
     "text": [
      "Shape of Features DataFrame: (1214, 154)\n"
     ]
    }
   ],
   "source": [
    "ftrs = ntl_stt\\\n",
    "        .merge(osm_rod, on='DHSCLUST')\\\n",
    "        .merge(osm_bld, on='DHSCLUST')\\\n",
    "        .merge(osm_poi, on='DHSCLUST')\n",
    "print('Shape of Features DataFrame: {}'.format(ftrs.shape))"
   ]
  },
  {
   "cell_type": "markdown",
   "metadata": {},
   "source": [
    "# Machine Learning Pipeline"
   ]
  },
  {
   "cell_type": "markdown",
   "metadata": {},
   "source": [
    "1. Scoring: pearson rsquared test (r2), and root mean squared error (rmse)\n",
    "2. Indicator: only use wealth index, consider others later on\n",
    "3. Model Types: random forest, consider others"
   ]
  },
  {
   "cell_type": "code",
   "execution_count": null,
   "metadata": {},
   "outputs": [],
   "source": []
  }
 ],
 "metadata": {
  "interpreter": {
   "hash": "9800bf7d4ffa4f9324a299644698221575cfa2905c94c95cd9a9674aaf0ad8b0"
  },
  "kernelspec": {
   "display_name": "Python 3.8.12 64-bit ('def': conda)",
   "language": "python",
   "name": "python3"
  },
  "language_info": {
   "codemirror_mode": {
    "name": "ipython",
    "version": 3
   },
   "file_extension": ".py",
   "mimetype": "text/x-python",
   "name": "python",
   "nbconvert_exporter": "python",
   "pygments_lexer": "ipython3",
   "version": "3.8.12"
  },
  "orig_nbformat": 4
 },
 "nbformat": 4,
 "nbformat_minor": 2
}
